{
 "cells": [
  {
   "cell_type": "code",
   "execution_count": 1,
   "metadata": {},
   "outputs": [],
   "source": [
    "import numpy as np\n",
    "import matplotlib.pyplot as plt\n",
    "from sklearn.preprocessing import StandardScaler"
   ]
  },
  {
   "cell_type": "code",
   "execution_count": 2,
   "metadata": {},
   "outputs": [],
   "source": [
    "data=np.genfromtxt(\"C:/Users/user/Documents/me/college/sem 7/data mining concepts and techinque lab/New folder/iris_numeric.txt\",delimiter=',')"
   ]
  },
  {
   "cell_type": "code",
   "execution_count": 3,
   "metadata": {},
   "outputs": [],
   "source": [
    "def normalise(data):\n",
    "    X_ = data[:,0:4]\n",
    "    scaler = StandardScaler()\n",
    "    X = scaler.fit_transform(X_)\n",
    "    return X"
   ]
  },
  {
   "cell_type": "code",
   "execution_count": 4,
   "metadata": {},
   "outputs": [],
   "source": [
    "def isCore(X,idx,eps,mps):\n",
    "    cnt = 0\n",
    "    for i in range(0,150):\n",
    "        dist = 0\n",
    "        for j in range(0,4):\n",
    "            dist = dist + (X[idx][j] - X[i][j])**2\n",
    "        dist = np.sqrt(dist)\n",
    "        if dist <= eps:\n",
    "            cnt = cnt + 1\n",
    "    if cnt >= mps:\n",
    "        return True\n",
    "    else:\n",
    "        return False"
   ]
  },
  {
   "cell_type": "code",
   "execution_count": 5,
   "metadata": {},
   "outputs": [],
   "source": [
    "def plot(X,label):\n",
    "    x = []\n",
    "    y = []\n",
    "    for i in range(0,150):\n",
    "        if label[i] == -1:\n",
    "            x.append(X[i][0])\n",
    "            y.append(X[i][1])\n",
    "    plt.scatter(x,y,c=\"red\")\n",
    "    x = []\n",
    "    y = []\n",
    "    for i in range(0,150):\n",
    "        if label[i] == 1:\n",
    "            x.append(X[i][0])\n",
    "            y.append(X[i][1])\n",
    "    plt.scatter(x,y,c=\"green\")\n",
    "    x = []\n",
    "    y = []\n",
    "    for i in range(0,150):\n",
    "        if label[i] == 2:\n",
    "            x.append(X[i][0])\n",
    "            y.append(X[i][1])\n",
    "    plt.scatter(x,y,c=\"blue\")\n",
    "    x = []\n",
    "    y = []\n",
    "    for i in range(0,150):\n",
    "        if label[i] == 3:\n",
    "            x.append(X[i][0])\n",
    "            y.append(X[i][1])\n",
    "    plt.scatter(x,y,c=\"yellow\")\n",
    "    x = []\n",
    "    y = []\n",
    "    for i in range(0,150):\n",
    "        if label[i] == 4:\n",
    "            x.append(X[i][0])\n",
    "            y.append(X[i][1])\n",
    "    plt.scatter(x,y,c=\"orange\")\n",
    "    x = []\n",
    "    y = []\n",
    "    for i in range(0,150):\n",
    "        if label[i] == 5:\n",
    "            x.append(X[i][0])\n",
    "            y.append(X[i][1])\n",
    "    plt.scatter(x,y,c=\"cyan\")\n",
    "    plt.show()"
   ]
  },
  {
   "cell_type": "code",
   "execution_count": 6,
   "metadata": {},
   "outputs": [],
   "source": [
    "def BFS(X,idx,eps,mps,label,c):\n",
    "    q = []\n",
    "    q.append(idx)\n",
    "    while len(q) > 0:\n",
    "        nd = q.pop(0)\n",
    "        if isCore(X,nd,eps,mps) == False:#this point is an outliar\n",
    "            label[nd] = c\n",
    "        else:\n",
    "            label[nd] = c\n",
    "            for i in range(0,150):\n",
    "                dist = 0\n",
    "                for j in range(0,4):\n",
    "                    dist = dist + (X[nd][j] - X[i][j])**2\n",
    "                dist = np.sqrt(dist)\n",
    "                if dist <= eps and label[i] <= 0:\n",
    "                    q.append(i)\n",
    "    return label"
   ]
  },
  {
   "cell_type": "code",
   "execution_count": 7,
   "metadata": {},
   "outputs": [
    {
     "data": {
      "image/png": "[encoded data removed]",
      "text/plain": [
       "<Figure size 432x288 with 1 Axes>"
      ]
     },
     "metadata": {
      "needs_background": "light"
     },
     "output_type": "display_data"
    }
   ],
   "source": [
    "X = normalise(data)\n",
    "label = np.zeros(150)\n",
    "eps = 0.5\n",
    "mps = 5\n",
    "c = 1\n",
    "for i in range(0,150):\n",
    "    if label[i] == 0:\n",
    "        if isCore(X,i,eps,mps) == False:#this point is an outliar\n",
    "            label[i] = -1\n",
    "        else:\n",
    "            label = BFS(X,i,eps,mps,label,c)\n",
    "            c = c + 1\n",
    "plot(X,label)"
   ]
  },
  {
   "cell_type": "code",
   "execution_count": null,
   "metadata": {},
   "outputs": [],
   "source": []
  },
  {
   "cell_type": "code",
   "execution_count": null,
   "metadata": {},
   "outputs": [],
   "source": []
  },
  {
   "cell_type": "code",
   "execution_count": null,
   "metadata": {},
   "outputs": [],
   "source": []
  },
  {
   "cell_type": "code",
   "execution_count": null,
   "metadata": {
    "collapsed": true
   },
   "outputs": [],
   "source": []
  }
 ],
 "metadata": {
  "kernelspec": {
   "display_name": "Python 3",
   "language": "python",
   "name": "python3"
  },
  "language_info": {
   "codemirror_mode": {
    "name": "ipython",
    "version": 3
   },
   "file_extension": ".py",
   "mimetype": "text/x-python",
   "name": "python",
   "nbconvert_exporter": "python",
   "pygments_lexer": "ipython3",
   "version": "3.6.7"
  }
 },
 "nbformat": 4,
 "nbformat_minor": 1
}
