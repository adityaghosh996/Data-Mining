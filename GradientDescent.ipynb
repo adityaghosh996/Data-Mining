{
 "cells": [
  {
   "cell_type": "code",
   "execution_count": 2,
   "metadata": {},
   "outputs": [],
   "source": [
    "import numpy as np\n",
    "import pandas as pd\n",
    "import matplotlib.pyplot as plt"
   ]
  },
  {
   "cell_type": "code",
   "execution_count": 3,
   "metadata": {},
   "outputs": [],
   "source": [
    "data=np.genfromtxt(\"C:/Users/user/Documents/me/college/sem 7/data mining concepts and techinque lab/New folder/male100.csv\",delimiter=',')"
   ]
  },
  {
   "cell_type": "code",
   "execution_count": 4,
   "metadata": {},
   "outputs": [
    {
     "data": {
      "text/plain": [
       "array([[1896.  ,   12.  ,   12.2 ,   12.6 ],\n",
       "       [1900.  ,   11.  ,   11.1 ,   11.2 ],\n",
       "       [1904.  ,   11.  ,   11.2 ,   11.2 ],\n",
       "       [1906.  ,   11.2 ,   11.3 ,   11.3 ],\n",
       "       [1908.  ,   10.8 ,   10.9 ,   11.  ],\n",
       "       [1912.  ,   10.8 ,   10.9 ,   10.9 ],\n",
       "       [1920.  ,   10.8 ,   10.8 ,   11.  ],\n",
       "       [1924.  ,   10.6 ,   10.7 ,   10.8 ],\n",
       "       [1928.  ,   10.8 ,   10.9 ,   10.9 ],\n",
       "       [1932.  ,   10.3 ,   10.3 ,   10.4 ],\n",
       "       [1936.  ,   10.3 ,   10.4 ,   10.5 ],\n",
       "       [1948.  ,   10.3 ,   10.4 ,   10.4 ],\n",
       "       [1952.  ,   10.4 ,   10.4 ,   10.4 ],\n",
       "       [1956.  ,   10.5 ,   10.5 ,   10.6 ],\n",
       "       [1960.  ,   10.2 ,   10.2 ,   10.3 ],\n",
       "       [1964.  ,   10.  ,   10.2 ,   10.2 ],\n",
       "       [1968.  ,    9.95,   10.  ,   10.  ],\n",
       "       [1972.  ,   10.14,   10.24,   10.33],\n",
       "       [1976.  ,   10.06,   10.08,   10.14],\n",
       "       [1980.  ,   10.25,   10.25,   10.39],\n",
       "       [1984.  ,    9.99,   10.19,   10.22],\n",
       "       [1988.  ,    9.92,    9.97,    9.99],\n",
       "       [1992.  ,    9.96,   10.02,   10.04],\n",
       "       [1996.  ,    9.84,    9.89,    9.9 ],\n",
       "       [2000.  ,    9.87,    9.99,   10.04],\n",
       "       [2004.  ,    9.85,    9.86,    9.87],\n",
       "       [2008.  ,    9.69,    9.89,    9.91]])"
      ]
     },
     "execution_count": 4,
     "metadata": {},
     "output_type": "execute_result"
    }
   ],
   "source": [
    "data"
   ]
  },
  {
   "cell_type": "code",
   "execution_count": 5,
   "metadata": {},
   "outputs": [
    {
     "data": {
      "text/plain": [
       "<matplotlib.collections.PathCollection at 0xcb437d0>"
      ]
     },
     "execution_count": 5,
     "metadata": {},
     "output_type": "execute_result"
    },
    {
     "data": {
      "image/png": "[encoded data removed]",
      "text/plain": [
       "<Figure size 432x288 with 1 Axes>"
      ]
     },
     "metadata": {
      "needs_background": "light"
     },
     "output_type": "display_data"
    }
   ],
   "source": [
    "plt.scatter(data[:,0],data[:,1])"
   ]
  },
  {
   "cell_type": "code",
   "execution_count": 6,
   "metadata": {},
   "outputs": [],
   "source": [
    "w1=(np.mean(data[:,0]*data[:,1])-np.mean(data[:,0])*np.mean(data[:,1]))/(np.mean(data[:,0]*data[:,0])-np.mean(data[:,0])*np.mean(data[:,0]))\n",
    "w0=np.mean(data[:,1])-w1*np.mean(data[:,0])"
   ]
  },
  {
   "cell_type": "code",
   "execution_count": 7,
   "metadata": {},
   "outputs": [],
   "source": [
    "y=w0+w1*data[:,0]"
   ]
  },
  {
   "cell_type": "code",
   "execution_count": 8,
   "metadata": {},
   "outputs": [
    {
     "data": {
      "text/plain": [
       "<matplotlib.collections.PathCollection at 0xcbb26b0>"
      ]
     },
     "execution_count": 8,
     "metadata": {},
     "output_type": "execute_result"
    },
    {
     "data": {
      "image/png": "[encoded data removed]",
      "text/plain": [
       "<Figure size 432x288 with 1 Axes>"
      ]
     },
     "metadata": {
      "needs_background": "light"
     },
     "output_type": "display_data"
    }
   ],
   "source": [
    "plt.plot(data[:,0],y)\n",
    "plt.scatter(data[:,0],data[:,1])"
   ]
  },
  {
   "cell_type": "code",
   "execution_count": 12,
   "metadata": {},
   "outputs": [],
   "source": [
    "N=data.shape[0]\n",
    "X=data[:,0]"
   ]
  },
  {
   "cell_type": "code",
   "execution_count": 16,
   "metadata": {},
   "outputs": [
    {
     "data": {
      "text/plain": [
       "array([[ 1.        , -1.61025838],\n",
       "       [ 1.        , -1.49599563],\n",
       "       [ 1.        , -1.38173288],\n",
       "       [ 1.        , -1.3246015 ],\n",
       "       [ 1.        , -1.26747013],\n",
       "       [ 1.        , -1.15320738],\n",
       "       [ 1.        , -0.92468188],\n",
       "       [ 1.        , -0.81041913],\n",
       "       [ 1.        , -0.69615638],\n",
       "       [ 1.        , -0.58189363],\n",
       "       [ 1.        , -0.46763088],\n",
       "       [ 1.        , -0.12484263],\n",
       "       [ 1.        , -0.01057988],\n",
       "       [ 1.        ,  0.10368287],\n",
       "       [ 1.        ,  0.21794561],\n",
       "       [ 1.        ,  0.33220836],\n",
       "       [ 1.        ,  0.44647111],\n",
       "       [ 1.        ,  0.56073386],\n",
       "       [ 1.        ,  0.67499661],\n",
       "       [ 1.        ,  0.78925936],\n",
       "       [ 1.        ,  0.90352211],\n",
       "       [ 1.        ,  1.01778486],\n",
       "       [ 1.        ,  1.13204761],\n",
       "       [ 1.        ,  1.24631036],\n",
       "       [ 1.        ,  1.36057311],\n",
       "       [ 1.        ,  1.47483586],\n",
       "       [ 1.        ,  1.58909861]])"
      ]
     },
     "execution_count": 16,
     "metadata": {},
     "output_type": "execute_result"
    }
   ],
   "source": [
    "X=data[:,0].reshape((N,1))\n",
    "Y=data[:,1].reshape((N,1))\n",
    "meanX=np.mean(X,axis=0)\n",
    "stdX=np.std(X,axis=0)\n",
    "XS=(X-meanX)/stdX\n",
    "temp=np.ones((N,1))\n",
    "XB=np.hstack((temp,XS))\n",
    "XB"
   ]
  },
  {
   "cell_type": "code",
   "execution_count": 17,
   "metadata": {},
   "outputs": [
    {
     "data": {
      "text/plain": [
       "(2, 1)"
      ]
     },
     "execution_count": 17,
     "metadata": {},
     "output_type": "execute_result"
    }
   ],
   "source": [
    "degree=1\n",
    "weights=np.zeros((degree+1,1))\n",
    "np.shape(weights)"
   ]
  },
  {
   "cell_type": "code",
   "execution_count": 44,
   "metadata": {},
   "outputs": [],
   "source": [
    "gens=50\n",
    "buffer=[]\n",
    "alpha=0.1\n",
    "for g in range(gens):\n",
    "    predict=weights.T.dot(XB.T).T\n",
    "    error=np.sum((Y-predict)**2)\n",
    "    error=error/(2*N)\n",
    "    buffer.append(error)\n",
    "    diff=Y-predict\n",
    "    weights=weights+alpha*(diff.T.dot(XB)/N).T\n"
   ]
  },
  {
   "cell_type": "code",
   "execution_count": 45,
   "metadata": {},
   "outputs": [
    {
     "data": {
      "text/plain": [
       "array([[10.33608381],\n",
       "       [-0.46426964]])"
      ]
     },
     "execution_count": 45,
     "metadata": {},
     "output_type": "execute_result"
    }
   ],
   "source": [
    "y=weights[0]+weights[1]*XS\n",
    "weights"
   ]
  },
  {
   "cell_type": "code",
   "execution_count": 46,
   "metadata": {},
   "outputs": [
    {
     "data": {
      "text/plain": [
       "[<matplotlib.lines.Line2D at 0xd0d250>]"
      ]
     },
     "execution_count": 46,
     "metadata": {},
     "output_type": "execute_result"
    },
    {
     "data": {
      "image/png": "[encoded data removed]",
      "text/plain": [
       "<Figure size 432x288 with 1 Axes>"
      ]
     },
     "metadata": {
      "needs_background": "light"
     },
     "output_type": "display_data"
    }
   ],
   "source": [
    "plt.plot(buffer)"
   ]
  },
  {
   "cell_type": "code",
   "execution_count": 47,
   "metadata": {},
   "outputs": [
    {
     "data": {
      "text/plain": [
       "[<matplotlib.lines.Line2D at 0xd41f70>]"
      ]
     },
     "execution_count": 47,
     "metadata": {},
     "output_type": "execute_result"
    },
    {
     "data": {
      "image/png": "[encoded data removed]",
      "text/plain": [
       "<Figure size 432x288 with 1 Axes>"
      ]
     },
     "metadata": {
      "needs_background": "light"
     },
     "output_type": "display_data"
    }
   ],
   "source": [
    "plt.scatter(XB[:,1],Y)\n",
    "plt.plot(XS,y)"
   ]
  },
  {
   "cell_type": "code",
   "execution_count": 18,
   "metadata": {},
   "outputs": [
    {
     "data": {
      "text/plain": [
       "array([[ 1.        , -1.61025838,  3.21278797,  3.50225406],\n",
       "       [ 1.        , -1.49599563,  1.16603115,  1.12421915],\n",
       "       [ 1.        , -1.38173288,  1.35209995,  1.12421915],\n",
       "       [ 1.        , -1.3246015 ,  1.53816876,  1.29407878],\n",
       "       [ 1.        , -1.26747013,  0.79389355,  0.78449988],\n",
       "       [ 1.        , -1.15320738,  0.79389355,  0.61464024],\n",
       "       [ 1.        , -0.92468188,  0.60782475,  0.78449988],\n",
       "       [ 1.        , -0.81041913,  0.42175595,  0.4447806 ],\n",
       "       [ 1.        , -0.69615638,  0.79389355,  0.61464024],\n",
       "       [ 1.        , -0.58189363, -0.32251926, -0.23465794],\n",
       "       [ 1.        , -0.46763088, -0.13645045, -0.06479831],\n",
       "       [ 1.        , -0.12484263, -0.13645045, -0.23465794],\n",
       "       [ 1.        , -0.01057988, -0.13645045, -0.23465794],\n",
       "       [ 1.        ,  0.10368287,  0.04961835,  0.10506133],\n",
       "       [ 1.        ,  0.21794561, -0.50858806, -0.40451758],\n",
       "       [ 1.        ,  0.33220836, -0.50858806, -0.57437721],\n",
       "       [ 1.        ,  0.44647111, -0.88072566, -0.91409649],\n",
       "       [ 1.        ,  0.56073386, -0.43416054, -0.35355969],\n",
       "       [ 1.        ,  0.67499661, -0.73187062, -0.676293  ],\n",
       "       [ 1.        ,  0.78925936, -0.41555366, -0.25164391],\n",
       "       [ 1.        ,  0.90352211, -0.52719494, -0.54040529],\n",
       "       [ 1.        ,  1.01778486, -0.9365463 , -0.93108245],\n",
       "       [ 1.        ,  1.13204761, -0.8435119 , -0.84615263],\n",
       "       [ 1.        ,  1.24631036, -1.08540134, -1.08395612],\n",
       "       [ 1.        ,  1.36057311, -0.89933254, -0.84615263],\n",
       "       [ 1.        ,  1.47483586, -1.14122198, -1.13491401],\n",
       "       [ 1.        ,  1.58909861, -1.08540134, -1.06697016]])"
      ]
     },
     "execution_count": 18,
     "metadata": {},
     "output_type": "execute_result"
    }
   ],
   "source": [
    "X=data[:,[0,2,3]].reshape((N,3))\n",
    "Y=data[:,1].reshape((N,1))\n",
    "meanX=np.mean(X,axis=0)\n",
    "stdX=np.std(X,axis=0)\n",
    "XS=(X-meanX)/stdX\n",
    "XB=np.hstack((np.ones((N,1)),XS))\n",
    "XB"
   ]
  },
  {
   "cell_type": "code",
   "execution_count": 19,
   "metadata": {},
   "outputs": [],
   "source": [
    "degree=3\n",
    "weights=np.zeros((degree+1,1))"
   ]
  },
  {
   "cell_type": "code",
   "execution_count": 20,
   "metadata": {},
   "outputs": [],
   "source": [
    "gens=50\n",
    "buffer=[]\n",
    "alpha=0.1\n",
    "for g in range(gens):\n",
    "    predict=weights.T.dot(XB.T).T\n",
    "    error=np.sum((Y-predict)**2)\n",
    "    error=error/(2*N)\n",
    "    buffer.append(error)\n",
    "    diff=Y-predict\n",
    "    weights=weights+alpha*(diff.T.dot(XB)/N).T\n",
    "weights\n",
    "y=weights.T.dot(XB.T).T"
   ]
  },
  {
   "cell_type": "code",
   "execution_count": 21,
   "metadata": {},
   "outputs": [
    {
     "data": {
      "text/plain": [
       "array([[10.33608381],\n",
       "       [-0.11239   ],\n",
       "       [ 0.20343998],\n",
       "       [ 0.20849941]])"
      ]
     },
     "execution_count": 21,
     "metadata": {},
     "output_type": "execute_result"
    }
   ],
   "source": [
    "weights"
   ]
  },
  {
   "cell_type": "code",
   "execution_count": 52,
   "metadata": {},
   "outputs": [
    {
     "data": {
      "text/plain": [
       "<matplotlib.collections.PathCollection at 0xdbcc70>"
      ]
     },
     "execution_count": 52,
     "metadata": {},
     "output_type": "execute_result"
    },
    {
     "data": {
      "image/png": "[encoded data removed]",
      "text/plain": [
       "<Figure size 432x288 with 1 Axes>"
      ]
     },
     "metadata": {
      "needs_background": "light"
     },
     "output_type": "display_data"
    }
   ],
   "source": [
    "plt.plot(XS[:,0],y)\n",
    "plt.scatter(XS[:,0],Y)"
   ]
  },
  {
   "cell_type": "code",
   "execution_count": 111,
   "metadata": {},
   "outputs": [
    {
     "data": {
      "text/plain": [
       "array([[ 1.        , -1.61025838,  3.21278797],\n",
       "       [ 1.        , -1.49599563,  1.16603115],\n",
       "       [ 1.        , -1.38173288,  1.35209995],\n",
       "       [ 1.        , -1.3246015 ,  1.53816876],\n",
       "       [ 1.        , -1.26747013,  0.79389355],\n",
       "       [ 1.        , -1.15320738,  0.79389355],\n",
       "       [ 1.        , -0.92468188,  0.60782475],\n",
       "       [ 1.        , -0.81041913,  0.42175595],\n",
       "       [ 1.        , -0.69615638,  0.79389355],\n",
       "       [ 1.        , -0.58189363, -0.32251926],\n",
       "       [ 1.        , -0.46763088, -0.13645045],\n",
       "       [ 1.        , -0.12484263, -0.13645045],\n",
       "       [ 1.        , -0.01057988, -0.13645045],\n",
       "       [ 1.        ,  0.10368287,  0.04961835],\n",
       "       [ 1.        ,  0.21794561, -0.50858806],\n",
       "       [ 1.        ,  0.33220836, -0.50858806],\n",
       "       [ 1.        ,  0.44647111, -0.88072566],\n",
       "       [ 1.        ,  0.56073386, -0.43416054],\n",
       "       [ 1.        ,  0.67499661, -0.73187062],\n",
       "       [ 1.        ,  0.78925936, -0.41555366],\n",
       "       [ 1.        ,  0.90352211, -0.52719494],\n",
       "       [ 1.        ,  1.01778486, -0.9365463 ],\n",
       "       [ 1.        ,  1.13204761, -0.8435119 ],\n",
       "       [ 1.        ,  1.24631036, -1.08540134],\n",
       "       [ 1.        ,  1.36057311, -0.89933254],\n",
       "       [ 1.        ,  1.47483586, -1.14122198],\n",
       "       [ 1.        ,  1.58909861, -1.08540134]])"
      ]
     },
     "execution_count": 111,
     "metadata": {},
     "output_type": "execute_result"
    }
   ],
   "source": [
    "X=data[:,[0,2]].reshape((N,2))\n",
    "Y=data[:,1].reshape((N,1))\n",
    "meanX=np.mean(X,axis=0)\n",
    "stdX=np.std(X,axis=0)\n",
    "XS=(X-meanX)/stdX\n",
    "XB=np.hstack((np.ones((N,1)),XS))\n",
    "XB"
   ]
  },
  {
   "cell_type": "code",
   "execution_count": 113,
   "metadata": {},
   "outputs": [],
   "source": [
    "degree=2\n",
    "weights=np.zeros((degree+1,1))"
   ]
  },
  {
   "cell_type": "code",
   "execution_count": 114,
   "metadata": {},
   "outputs": [],
   "source": [
    "gens=50\n",
    "buffer=[]\n",
    "alpha=0.1\n",
    "for g in range(gens):\n",
    "    predict=weights.T.dot(XB.T).T\n",
    "    error=np.sum((Y-predict)**2)\n",
    "    error=error/(2*N)\n",
    "    buffer.append(error)\n",
    "    diff=Y-predict\n",
    "    weights=weights+alpha*(diff.T.dot(XB)/N).T\n",
    "weights\n",
    "y=weights.T.dot(XB.T).T"
   ]
  },
  {
   "cell_type": "code",
   "execution_count": 115,
   "metadata": {},
   "outputs": [
    {
     "data": {
      "text/plain": [
       "[<matplotlib.lines.Line2D at 0x687d090>]"
      ]
     },
     "execution_count": 115,
     "metadata": {},
     "output_type": "execute_result"
    },
    {
     "data": {
      "image/png": "[encoded data removed]",
      "text/plain": [
       "<Figure size 432x288 with 1 Axes>"
      ]
     },
     "metadata": {
      "needs_background": "light"
     },
     "output_type": "display_data"
    }
   ],
   "source": [
    "plt.plot(buffer)"
   ]
  },
  {
   "cell_type": "code",
   "execution_count": 116,
   "metadata": {},
   "outputs": [
    {
     "data": {
      "text/plain": [
       "<matplotlib.collections.PathCollection at 0x58ff0b0>"
      ]
     },
     "execution_count": 116,
     "metadata": {},
     "output_type": "execute_result"
    },
    {
     "data": {
      "image/png": "[encoded data removed]",
      "text/plain": [
       "<Figure size 432x288 with 1 Axes>"
      ]
     },
     "metadata": {
      "needs_background": "light"
     },
     "output_type": "display_data"
    }
   ],
   "source": [
    "plt.plot(XS[:,0],y)\n",
    "plt.scatter(XS[:,0],Y)"
   ]
  },
  {
   "cell_type": "code",
   "execution_count": null,
   "metadata": {},
   "outputs": [],
   "source": []
  }
 ],
 "metadata": {
  "kernelspec": {
   "display_name": "Python 3",
   "language": "python",
   "name": "python3"
  },
  "language_info": {
   "codemirror_mode": {
    "name": "ipython",
    "version": 3
   },
   "file_extension": ".py",
   "mimetype": "text/x-python",
   "name": "python",
   "nbconvert_exporter": "python",
   "pygments_lexer": "ipython3",
   "version": "3.6.7"
  }
 },
 "nbformat": 4,
 "nbformat_minor": 2
}
