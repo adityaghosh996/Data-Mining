{
 "cells": [
  {
   "cell_type": "code",
   "execution_count": 91,
   "metadata": {
    "collapsed": true
   },
   "outputs": [],
   "source": [
    "import numpy as np\n",
    "import matplotlib.pyplot as plt\n",
    "import math\n",
    "data=np.genfromtxt(r\"C:\\Users\\BIT\\Downloads\\iris_numeric.txt\",delimiter=\",\")"
   ]
  },
  {
   "cell_type": "code",
   "execution_count": 92,
   "metadata": {
    "collapsed": true
   },
   "outputs": [],
   "source": [
    "def compute_dist(D):\n",
    "    N = D.shape[0]\n",
    "    dists = [[np.sqrt(np.sum((D[i] - D[j])**2)) for j in range(N)]for i in range(N)]\n",
    "    for i in range(N):\n",
    "        dists[i][i] = np.max(dists)\n",
    "    return dists"
   ]
  },
  {
   "cell_type": "code",
   "execution_count": 93,
   "metadata": {
    "collapsed": false
   },
   "outputs": [
    {
     "name": "stdout",
     "output_type": "stream",
     "text": [
      "[[0, 17, 40, 4, 7, 39, 28, 27, 20, 31, 36, 1, 25, 12, 45, 2, 47, 29, 3, 9, 34, 37, 30, 6, 11, 24, 35, 49, 10, 48, 19, 46, 44, 21, 23, 26, 43, 22, 8, 13, 38, 42, 41, 50, 102, 125, 129, 62, 68, 119, 87, 72, 146, 108, 51, 56, 85, 52, 65, 86, 58, 75, 76, 53, 69, 89, 80, 81, 79, 55, 99, 96, 88, 95, 64, 59, 67, 82, 92, 90, 94, 54, 133, 123, 126, 83, 134, 61, 63, 78, 91, 71, 74, 97, 73, 66, 84, 70, 127, 138, 149, 57, 93, 98, 60, 77, 103, 104, 116, 137, 147, 111, 128, 132, 101, 142, 121, 114, 113, 106], [5, 16, 18, 14, 15, 32, 33], [100, 136, 148, 110, 115, 112, 139, 141, 145, 120, 143, 140, 144, 124, 109, 117, 131, 105, 135, 107, 130, 122, 118]]\n"
     ]
    }
   ],
   "source": [
    "data=data[:,[0,1,2,3]]\n",
    "pdata=data\n",
    "mean=np.mean(data,axis=0)\n",
    "std=np.std(data,axis=0)\n",
    "data=(data-mean)/std\n",
    "[N,M]=data.shape\n",
    "lis=[[i] for i in range(N)]\n",
    "dis=compute_dist(data)\n",
    "distance=np.asarray(dis)\n",
    "#print(distance.shape)\n",
    "#print(distance)\n",
    "k=3\n",
    "while(len(lis)>k):\n",
    "    dis=compute_dist(data)\n",
    "    distance=np.asarray(dis)\n",
    "    locs=np.where(distance==np.min(distance))\n",
    "    id1=locs[0][0]\n",
    "    id2=locs[1][0]\n",
    "    #print(id1)\n",
    "    #print(id2)\n",
    "    lis[id1].extend(lis[id2])\n",
    "    del(lis[id2])\n",
    "    #print(lis)\n",
    "    #print(len(lis))\n",
    "    for i in range(0,M):\n",
    "        data[id1]=(data[id1]+data[id2])/2\n",
    "    data=np.delete(data,id2,axis=0)\n",
    "print(lis)"
   ]
  },
  {
   "cell_type": "code",
   "execution_count": null,
   "metadata": {
    "collapsed": false
   },
   "outputs": [],
   "source": [
    "colors=[\"red\",\"black\",\"yellow\"]\n",
    "mark=[\"<\",\">\",\"^\"]\n",
    "for i in range(len(colors)):\n",
    "    plt.scatter(pdata[lis[i],0],pdata[lis[i],1],c=colors[i],s=100)\n",
    "plt.show()"
   ]
  },
  {
   "cell_type": "code",
   "execution_count": null,
   "metadata": {
    "collapsed": true
   },
   "outputs": [],
   "source": []
  }
 ],
 "metadata": {
  "anaconda-cloud": {},
  "kernelspec": {
   "display_name": "Python [Root]",
   "language": "python",
   "name": "Python [Root]"
  },
  "language_info": {
   "codemirror_mode": {
    "name": "ipython",
    "version": 3
   },
   "file_extension": ".py",
   "mimetype": "text/x-python",
   "name": "python",
   "nbconvert_exporter": "python",
   "pygments_lexer": "ipython3",
   "version": "3.5.1"
  }
 },
 "nbformat": 4,
 "nbformat_minor": 0
}
