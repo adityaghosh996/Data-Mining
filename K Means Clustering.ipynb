{
 "cells": [
  {
   "cell_type": "code",
   "execution_count": 81,
   "metadata": {
    "collapsed": true
   },
   "outputs": [],
   "source": [
    "import numpy as np\n",
    "import matplotlib.pyplot as plt\n",
    "from sklearn.preprocessing import StandardScaler"
   ]
  },
  {
   "cell_type": "code",
   "execution_count": 82,
   "metadata": {
    "collapsed": true
   },
   "outputs": [],
   "source": [
    "data = np.genfromtxt(r\"C:/Users/bit.LAB4-11/Downloads/iris_numeric.txt\",delimiter = ',')"
   ]
  },
  {
   "cell_type": "code",
   "execution_count": 83,
   "metadata": {
    "collapsed": true
   },
   "outputs": [],
   "source": [
    "def normalise(data):\n",
    "    X_ = data[:,0:4]\n",
    "    scaler = StandardScaler()\n",
    "    X = scaler.fit_transform(X_)\n",
    "    return X"
   ]
  },
  {
   "cell_type": "code",
   "execution_count": 84,
   "metadata": {
    "collapsed": true
   },
   "outputs": [],
   "source": [
    "def guess_k_means(k,m):\n",
    "    cen = 1\n",
    "    st = 1\n",
    "    center = np.random.normal(cen,st,k*m).reshape((k,m))\n",
    "    return center"
   ]
  },
  {
   "cell_type": "code",
   "execution_count": 85,
   "metadata": {
    "collapsed": false
   },
   "outputs": [],
   "source": [
    "def distribute(X,n,m,k,center):\n",
    "    assign = np.zeros((1,n))\n",
    "    for i in range (0,n):\n",
    "        mini = 10000000000000000000\n",
    "        who = -1\n",
    "        for j in range (0,k):\n",
    "            dis = np.sum([(X[i][col] - center[j][col])**2 for col in range(0,m)])\n",
    "            if dis < mini:\n",
    "                mini = dis\n",
    "                who = j\n",
    "        assign[0][i] = who\n",
    "    return assign"
   ]
  },
  {
   "cell_type": "code",
   "execution_count": 86,
   "metadata": {
    "collapsed": true
   },
   "outputs": [],
   "source": [
    "def recalculate(assign,X,n,m,k):\n",
    "    center = np.zeros((k,m))\n",
    "    cnt = np.zeros((k,1))\n",
    "    for i in range (0,n):\n",
    "        cnt[assign[0][i]][0] = cnt[assign[0][i]][0] + 1\n",
    "        for j in range(0,m):\n",
    "            center[assign[0][i]][j] = center[assign[0][i]][j] + X[i][j]\n",
    "    for i in range(0,k):\n",
    "        for j in range(0,m):\n",
    "            center[i][j] = center[i][j] / cnt[i][0]\n",
    "    return center"
   ]
  },
  {
   "cell_type": "code",
   "execution_count": 93,
   "metadata": {
    "collapsed": true
   },
   "outputs": [],
   "source": [
    "def plot(X,assign,k):\n",
    "    colors = [\"red\",\"green\",\"blue\"]\n",
    "    for i in range (0,k):\n",
    "        plt.scatter(X[assign[0] == i,0],X[assign[0] == i,1],c=np.random.rand(3,1))\n",
    "    plt.show()"
   ]
  },
  {
   "cell_type": "code",
   "execution_count": 94,
   "metadata": {
    "collapsed": true
   },
   "outputs": [],
   "source": [
    "def cluster(k,data):\n",
    "    X = normalise(data)\n",
    "    n = np.shape(X)[0]\n",
    "    m = np.shape(X)[1]\n",
    "    center = guess_k_means(k,m)\n",
    "    for gen in range(0,200):\n",
    "        assign = distribute(X,n,m,k,center)\n",
    "        center = recalculate(assign,X,n,m,k)\n",
    "        if gen == 199:\n",
    "            plot(X,assign,k)"
   ]
  },
  {
   "cell_type": "code",
   "execution_count": 96,
   "metadata": {
    "collapsed": false
   },
   "outputs": [
    {
     "name": "stderr",
     "output_type": "stream",
     "text": [
      "C:\\Anaconda3\\lib\\site-packages\\ipykernel\\__main__.py:5: VisibleDeprecationWarning: using a non-integer number instead of an integer will result in an error in the future\n",
      "C:\\Anaconda3\\lib\\site-packages\\ipykernel\\__main__.py:7: VisibleDeprecationWarning: using a non-integer number instead of an integer will result in an error in the future\n",
      "C:\\Anaconda3\\lib\\site-packages\\ipykernel\\__main__.py:10: RuntimeWarning: invalid value encountered in double_scalars\n",
      "C:\\Anaconda3\\lib\\site-packages\\ipykernel\\__main__.py:8: RuntimeWarning: invalid value encountered in less\n"
     ]
    },
    {
     "name": "stdout",
     "output_type": "stream",
     "text": [
      "hi\n"
     ]
    }
   ],
   "source": [
    "for k in range(2,10):\n",
    "    cluster(k,data)\n",
    "print(\"hi\")"
   ]
  },
  {
   "cell_type": "code",
   "execution_count": null,
   "metadata": {
    "collapsed": false
   },
   "outputs": [],
   "source": []
  },
  {
   "cell_type": "code",
   "execution_count": null,
   "metadata": {
    "collapsed": false
   },
   "outputs": [],
   "source": []
  },
  {
   "cell_type": "code",
   "execution_count": null,
   "metadata": {
    "collapsed": false
   },
   "outputs": [],
   "source": []
  },
  {
   "cell_type": "code",
   "execution_count": null,
   "metadata": {
    "collapsed": false
   },
   "outputs": [],
   "source": []
  },
  {
   "cell_type": "code",
   "execution_count": null,
   "metadata": {
    "collapsed": false
   },
   "outputs": [],
   "source": []
  },
  {
   "cell_type": "code",
   "execution_count": null,
   "metadata": {
    "collapsed": true
   },
   "outputs": [],
   "source": []
  }
 ],
 "metadata": {
  "anaconda-cloud": {},
  "kernelspec": {
   "display_name": "Python [Root]",
   "language": "python",
   "name": "Python [Root]"
  },
  "language_info": {
   "codemirror_mode": {
    "name": "ipython",
    "version": 3
   },
   "file_extension": ".py",
   "mimetype": "text/x-python",
   "name": "python",
   "nbconvert_exporter": "python",
   "pygments_lexer": "ipython3",
   "version": "3.5.1"
  }
 },
 "nbformat": 4,
 "nbformat_minor": 0
}
