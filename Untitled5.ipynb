{
 "cells": [
  {
   "cell_type": "code",
   "execution_count": 219,
   "metadata": {
    "collapsed": true
   },
   "outputs": [],
   "source": [
    "import numpy as np\n",
    "import collections as clc"
   ]
  },
  {
   "cell_type": "code",
   "execution_count": 220,
   "metadata": {
    "collapsed": false
   },
   "outputs": [],
   "source": [
    "data_original = np.genfromtxt(r\"C:/Users/bit.LAB4-11/Downloads/iris_numeric.txt\",delimiter=\",\")\n",
    "N = np.shape(data)[0]\n",
    "M = np.shape(data)[1]"
   ]
  },
  {
   "cell_type": "code",
   "execution_count": 221,
   "metadata": {
    "collapsed": false
   },
   "outputs": [],
   "source": [
    "randperm = np.random.RandomState(seed=98).permutation(np.shape(data_original)[0])\n",
    "x_rand = np.array([data_original[i] for i in randperm])\n",
    "upto = int(0.75 * np.shape(x_rand)[0])\n",
    "train = x_rand[:upto,:]\n",
    "test = x_rand[upto:,:]\n",
    "N = np.shape(train)[0]\n",
    "M = np.shape(test)[1]"
   ]
  },
  {
   "cell_type": "code",
   "execution_count": 222,
   "metadata": {
    "collapsed": false
   },
   "outputs": [],
   "source": [
    "for i in range(0,M-1):\n",
    "    mean = np.mean(train[:,i])\n",
    "    for j in range(0,N):\n",
    "        if(mean<=train[j][i]):\n",
    "            train[j][i] = 1\n",
    "        else:\n",
    "            train[j][i] = 0"
   ]
  },
  {
   "cell_type": "code",
   "execution_count": 229,
   "metadata": {
    "collapsed": false
   },
   "outputs": [],
   "source": [
    "train1 = np.array([x for x in train if x[4] == 1])\n",
    "train1 = np.reshape(train1,(np.shape(train1)[0],np.shape(train1)[1]))\n",
    "train2 = np.array([x for x in train if x[4] == 2])\n",
    "train2 = np.reshape(train2,(np.shape(train2)[0],np.shape(train2)[1]))\n",
    "train3 = np.array([x for x in train if x[4] == 3])\n",
    "train3 = np.reshape(train3,(np.shape(train3)[0],np.shape(train3)[1]))"
   ]
  },
  {
   "cell_type": "code",
   "execution_count": 224,
   "metadata": {
    "collapsed": false
   },
   "outputs": [],
   "source": [
    "def count_func(dat):\n",
    "    dp = [[None]*4 for _ in range(2)]\n",
    "    dp[0][0] = clc.Counter(dat[:,0])[0]\n",
    "    dp[1][0] = clc.Counter(dat[:,0])[1]\n",
    "    dp[0][1] = clc.Counter(dat[:,1])[0]\n",
    "    dp[1][1] = clc.Counter(dat[:,1])[1]\n",
    "    dp[0][2] = clc.Counter(dat[:,2])[0]\n",
    "    dp[1][2] = clc.Counter(dat[:,2])[1]\n",
    "    dp[0][3] = clc.Counter(dat[:,3])[0]\n",
    "    dp[1][3] = clc.Counter(dat[:,3])[1]\n",
    "    return dp"
   ]
  },
  {
   "cell_type": "code",
   "execution_count": 225,
   "metadata": {
    "collapsed": false
   },
   "outputs": [],
   "source": [
    "dp1 = count_func(train1)\n",
    "dp2 = count_func(train2)\n",
    "dp3 = count_func(train3)"
   ]
  },
  {
   "cell_type": "code",
   "execution_count": 231,
   "metadata": {
    "collapsed": false
   },
   "outputs": [],
   "source": [
    "def Pcj(cj,dp):\n",
    "    total = (dp1[0][0] + dp1[1][0]) + (dp2[0][0] + dp2[1][0]) + (dp3[0][0] + dp3[1][0])\n",
    "    this = (dp[0][0] + dp[1][0])\n",
    "    p = this/total\n",
    "    return p"
   ]
  },
  {
   "cell_type": "code",
   "execution_count": 232,
   "metadata": {
    "collapsed": false
   },
   "outputs": [],
   "source": [
    "def Pxi(xi):\n",
    "    prob = 1\n",
    "    total = (dp1[0][0] + dp1[1][0]) + (dp2[0][0] + dp2[1][0]) + (dp3[0][0] + dp3[1][0])\n",
    "    for i in range(0,4):\n",
    "        this = dp1[int(xi[i])][i] + dp2[int(xi[i])][i] + dp3[int(xi[i])][i]\n",
    "        prob = prob * (this/total)\n",
    "    return prob"
   ]
  },
  {
   "cell_type": "code",
   "execution_count": 233,
   "metadata": {
    "collapsed": false
   },
   "outputs": [],
   "source": [
    "def Pxi_cj(xi,dp):\n",
    "    prob = 1\n",
    "    total = (dp[0][0] + dp[1][0])\n",
    "    for i in range(0,4):\n",
    "        this = dp[int(xi[i])][i]\n",
    "        prob = prob * (this/total)\n",
    "    return prob"
   ]
  },
  {
   "cell_type": "code",
   "execution_count": 234,
   "metadata": {
    "collapsed": false
   },
   "outputs": [
    {
     "ename": "IndexError",
     "evalue": "list index out of range",
     "output_type": "error",
     "traceback": [
      "\u001b[1;31m---------------------------------------------------------------------------\u001b[0m",
      "\u001b[1;31mIndexError\u001b[0m                                Traceback (most recent call last)",
      "\u001b[1;32m<ipython-input-234-60dfd524dfbf>\u001b[0m in \u001b[0;36m<module>\u001b[1;34m()\u001b[0m\n\u001b[0;32m      1\u001b[0m \u001b[1;32mfor\u001b[0m \u001b[0mxi\u001b[0m \u001b[1;32min\u001b[0m \u001b[0mtest\u001b[0m\u001b[1;33m:\u001b[0m\u001b[1;33m\u001b[0m\u001b[0m\n\u001b[1;32m----> 2\u001b[1;33m     \u001b[0mval1\u001b[0m \u001b[1;33m=\u001b[0m \u001b[0mPxi_cj\u001b[0m\u001b[1;33m(\u001b[0m\u001b[0mxi\u001b[0m\u001b[1;33m,\u001b[0m\u001b[0mdp1\u001b[0m\u001b[1;33m)\u001b[0m\u001b[1;33m\u001b[0m\u001b[0m\n\u001b[0m\u001b[0;32m      3\u001b[0m     \u001b[0mval2\u001b[0m \u001b[1;33m=\u001b[0m \u001b[0mPxi_cj\u001b[0m\u001b[1;33m(\u001b[0m\u001b[0mxi\u001b[0m\u001b[1;33m,\u001b[0m\u001b[0mdp2\u001b[0m\u001b[1;33m)\u001b[0m\u001b[1;33m\u001b[0m\u001b[0m\n\u001b[0;32m      4\u001b[0m     \u001b[0mval3\u001b[0m \u001b[1;33m=\u001b[0m \u001b[0mPxi_cj\u001b[0m\u001b[1;33m(\u001b[0m\u001b[0mxi\u001b[0m\u001b[1;33m,\u001b[0m\u001b[0mdp3\u001b[0m\u001b[1;33m)\u001b[0m\u001b[1;33m\u001b[0m\u001b[0m\n\u001b[0;32m      5\u001b[0m     \u001b[1;32mif\u001b[0m\u001b[1;33m(\u001b[0m\u001b[0mval1\u001b[0m\u001b[1;33m>=\u001b[0m\u001b[0mval2\u001b[0m \u001b[1;32mand\u001b[0m \u001b[0mval1\u001b[0m\u001b[1;33m>=\u001b[0m\u001b[0mval3\u001b[0m\u001b[1;33m)\u001b[0m\u001b[1;33m:\u001b[0m\u001b[1;33m\u001b[0m\u001b[0m\n",
      "\u001b[1;32m<ipython-input-233-781909d77023>\u001b[0m in \u001b[0;36mPxi_cj\u001b[1;34m(xi, dp)\u001b[0m\n\u001b[0;32m      3\u001b[0m     \u001b[0mtotal\u001b[0m \u001b[1;33m=\u001b[0m \u001b[1;33m(\u001b[0m\u001b[0mdp\u001b[0m\u001b[1;33m[\u001b[0m\u001b[1;36m0\u001b[0m\u001b[1;33m]\u001b[0m\u001b[1;33m[\u001b[0m\u001b[1;36m0\u001b[0m\u001b[1;33m]\u001b[0m \u001b[1;33m+\u001b[0m \u001b[0mdp\u001b[0m\u001b[1;33m[\u001b[0m\u001b[1;36m1\u001b[0m\u001b[1;33m]\u001b[0m\u001b[1;33m[\u001b[0m\u001b[1;36m0\u001b[0m\u001b[1;33m]\u001b[0m\u001b[1;33m)\u001b[0m\u001b[1;33m\u001b[0m\u001b[0m\n\u001b[0;32m      4\u001b[0m     \u001b[1;32mfor\u001b[0m \u001b[0mi\u001b[0m \u001b[1;32min\u001b[0m \u001b[0mrange\u001b[0m\u001b[1;33m(\u001b[0m\u001b[1;36m0\u001b[0m\u001b[1;33m,\u001b[0m\u001b[1;36m4\u001b[0m\u001b[1;33m)\u001b[0m\u001b[1;33m:\u001b[0m\u001b[1;33m\u001b[0m\u001b[0m\n\u001b[1;32m----> 5\u001b[1;33m         \u001b[0mthis\u001b[0m \u001b[1;33m=\u001b[0m \u001b[0mdp\u001b[0m\u001b[1;33m[\u001b[0m\u001b[0mint\u001b[0m\u001b[1;33m(\u001b[0m\u001b[0mxi\u001b[0m\u001b[1;33m[\u001b[0m\u001b[0mi\u001b[0m\u001b[1;33m]\u001b[0m\u001b[1;33m)\u001b[0m\u001b[1;33m]\u001b[0m\u001b[1;33m[\u001b[0m\u001b[0mi\u001b[0m\u001b[1;33m]\u001b[0m\u001b[1;33m\u001b[0m\u001b[0m\n\u001b[0m\u001b[0;32m      6\u001b[0m         \u001b[0mprob\u001b[0m \u001b[1;33m=\u001b[0m \u001b[0mprob\u001b[0m \u001b[1;33m*\u001b[0m \u001b[1;33m(\u001b[0m\u001b[0mthis\u001b[0m\u001b[1;33m/\u001b[0m\u001b[0mtotal\u001b[0m\u001b[1;33m)\u001b[0m\u001b[1;33m\u001b[0m\u001b[0m\n\u001b[0;32m      7\u001b[0m     \u001b[1;32mreturn\u001b[0m \u001b[0mprob\u001b[0m\u001b[1;33m\u001b[0m\u001b[0m\n",
      "\u001b[1;31mIndexError\u001b[0m: list index out of range"
     ]
    }
   ],
   "source": [
    "for xi in test:\n",
    "    val1 = Pxi_cj(xi,dp1)\n",
    "    val2 = Pxi_cj(xi,dp2)\n",
    "    val3 = Pxi_cj(xi,dp3)\n",
    "    if(val1>=val2 and val1>=val3):\n",
    "        print(1)\n",
    "    elif(val2>=val1 and val2>=val3):\n",
    "        print(2)\n",
    "    else:\n",
    "        print(3)"
   ]
  },
  {
   "cell_type": "code",
   "execution_count": null,
   "metadata": {
    "collapsed": true
   },
   "outputs": [],
   "source": []
  },
  {
   "cell_type": "code",
   "execution_count": null,
   "metadata": {
    "collapsed": true
   },
   "outputs": [],
   "source": []
  },
  {
   "cell_type": "code",
   "execution_count": null,
   "metadata": {
    "collapsed": true
   },
   "outputs": [],
   "source": []
  }
 ],
 "metadata": {
  "kernelspec": {
   "display_name": "Python [Root]",
   "language": "python",
   "name": "Python [Root]"
  },
  "language_info": {
   "codemirror_mode": {
    "name": "ipython",
    "version": 3
   },
   "file_extension": ".py",
   "mimetype": "text/x-python",
   "name": "python",
   "nbconvert_exporter": "python",
   "pygments_lexer": "ipython3",
   "version": "3.5.1"
  }
 },
 "nbformat": 4,
 "nbformat_minor": 0
}
