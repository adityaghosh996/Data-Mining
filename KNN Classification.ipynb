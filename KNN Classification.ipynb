{
 "cells": [
  {
   "cell_type": "code",
   "execution_count": 236,
   "metadata": {
    "collapsed": true
   },
   "outputs": [],
   "source": [
    "import numpy as np\n",
    "import matplotlib.pyplot as plt"
   ]
  },
  {
   "cell_type": "code",
   "execution_count": 237,
   "metadata": {
    "collapsed": true
   },
   "outputs": [],
   "source": [
    "data = np.genfromtxt(r\"C:/Users/bit.LAB4-11/Downloads/iris_numeric.txt\",delimiter = ',')"
   ]
  },
  {
   "cell_type": "code",
   "execution_count": 238,
   "metadata": {
    "collapsed": false
   },
   "outputs": [],
   "source": [
    "n = np.shape(X)[0]\n",
    "m = np.shape(X)[1]\n",
    "X = np.reshape(data[:,:4],(n,4))\n",
    "Y = np.reshape(data[:,4],(n,1))"
   ]
  },
  {
   "cell_type": "code",
   "execution_count": 239,
   "metadata": {
    "collapsed": false
   },
   "outputs": [],
   "source": [
    "mean = np.mean(X,axis = 0)\n",
    "std = np.std(X,axis = 0)"
   ]
  },
  {
   "cell_type": "code",
   "execution_count": 240,
   "metadata": {
    "collapsed": false
   },
   "outputs": [],
   "source": [
    "X = (X - np.tile(mean,(n,1)))/(np.tile(std,(n,1)))"
   ]
  },
  {
   "cell_type": "code",
   "execution_count": 241,
   "metadata": {
    "collapsed": false
   },
   "outputs": [],
   "source": [
    "randperm = np.random.RandomState(seed=120).permutation(n)\n",
    "upto = int(0.75*n)\n",
    "rand_x = np.array([X[i] for i in randperm])\n",
    "rand_y = np.array([Y[i] for i in randperm])\n",
    "trainx = rand_x[:upto,:]\n",
    "testx = rand_x[upto:,:]\n",
    "trainy = rand_y[:upto,:]\n",
    "testy = rand_y[upto:,:]"
   ]
  },
  {
   "cell_type": "code",
   "execution_count": 242,
   "metadata": {
    "collapsed": false
   },
   "outputs": [],
   "source": [
    "plotx = []\n",
    "ploty = []\n",
    "for K in range(1,100,2):\n",
    "    cnt = 0\n",
    "    sz = np.shape(testx)[0]\n",
    "    for i,j in zip(testx,testy):\n",
    "        temp = np.reshape((trainx - np.tile(i,(np.shape(trainx)[0],1)))**2, (np.shape(trainx)[0],4))\n",
    "        temp1 = np.reshape(np.sum(temp,axis = 1),(np.shape(trainx)[0],1))\n",
    "        temp2 = np.sqrt(temp1)\n",
    "        idx = np.argpartition(temp2,K,axis = 0)[:K,:]\n",
    "        labels = np.array([trainy[ii[0]] for ii in idx])\n",
    "        (values,counts) = np.unique(labels,return_counts=True)\n",
    "        ind=np.argmax(counts)\n",
    "        if(values[ind]-j[0] == 0):\n",
    "            cnt = cnt + 1\n",
    "    plotx.append(K)\n",
    "    ploty.append(cnt/sz*100)\n",
    "    "
   ]
  },
  {
   "cell_type": "code",
   "execution_count": 246,
   "metadata": {
    "collapsed": false
   },
   "outputs": [
    {
     "data": {
      "text/plain": [
       "[<matplotlib.lines.Line2D at 0x358fd2da90>]"
      ]
     },
     "execution_count": 246,
     "metadata": {},
     "output_type": "execute_result"
    }
   ],
   "source": [
    "plt.plot(plotx,ploty)"
   ]
  },
  {
   "cell_type": "code",
   "execution_count": 247,
   "metadata": {
    "collapsed": false
   },
   "outputs": [],
   "source": [
    "plt.show()"
   ]
  },
  {
   "cell_type": "code",
   "execution_count": null,
   "metadata": {
    "collapsed": true
   },
   "outputs": [],
   "source": []
  }
 ],
 "metadata": {
  "anaconda-cloud": {},
  "kernelspec": {
   "display_name": "Python [Root]",
   "language": "python",
   "name": "Python [Root]"
  },
  "language_info": {
   "codemirror_mode": {
    "name": "ipython",
    "version": 3
   },
   "file_extension": ".py",
   "mimetype": "text/x-python",
   "name": "python",
   "nbconvert_exporter": "python",
   "pygments_lexer": "ipython3",
   "version": "3.5.1"
  }
 },
 "nbformat": 4,
 "nbformat_minor": 0
}
