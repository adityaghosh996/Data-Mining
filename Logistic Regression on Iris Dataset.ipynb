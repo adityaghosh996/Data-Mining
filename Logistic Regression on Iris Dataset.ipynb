{
 "cells": [
  {
   "cell_type": "code",
   "execution_count": 258,
   "metadata": {
    "collapsed": true
   },
   "outputs": [],
   "source": [
    "import numpy as np\n",
    "import math\n",
    "import matplotlib.pyplot as plt"
   ]
  },
  {
   "cell_type": "code",
   "execution_count": 259,
   "metadata": {
    "collapsed": true
   },
   "outputs": [],
   "source": [
    "data = np.genfromtxt(r\"C:/Users/bit.LAB4-11/Downloads/iris_numeric.txt\",delimiter = ',')"
   ]
  },
  {
   "cell_type": "code",
   "execution_count": 260,
   "metadata": {
    "collapsed": false
   },
   "outputs": [],
   "source": [
    "X = np.reshape(np.transpose(data[:,0:4]),(4,150))\n",
    "Y = np.reshape(np.transpose(data[:,4]),(1,150))\n",
    "alpha = 0.01\n",
    "W = np.reshape(np.array([1 for i in range(0,4)]),(1,4))\n",
    "B = np.reshape(np.array([1 for i in range(0,150)]),(1,150))\n",
    "for i in range(0,150):\n",
    "    if Y[0][i]==1:\n",
    "        Y[0][i]=1\n",
    "    else:\n",
    "        Y[0][i]=0"
   ]
  },
  {
   "cell_type": "code",
   "execution_count": 261,
   "metadata": {
    "collapsed": false
   },
   "outputs": [],
   "source": [
    "def sigmoid(x):\n",
    "    return 1 / (1 + math.exp(-x))"
   ]
  },
  {
   "cell_type": "code",
   "execution_count": 262,
   "metadata": {
    "collapsed": false
   },
   "outputs": [
    {
     "name": "stdout",
     "output_type": "stream",
     "text": [
      "100.0\n"
     ]
    }
   ],
   "source": [
    "LOSS = []\n",
    "INDEX = []\n",
    "for i in range(0,2000):\n",
    "    Z = np.dot(W,X) + B\n",
    "    A = np.reshape(np.array([sigmoid(it) for it in Z[0]]),(1,150))\n",
    "    loss = np.sum(np.array([yi*np.log(ai) + (1-yi)*np.log(1-ai) for yi,ai in zip(Y[0],A[0])]))*(-1/150)\n",
    "    LOSS.append(loss)\n",
    "    INDEX.append(i)\n",
    "    dW = np.dot(A-Y,np.transpose(X)) / 150\n",
    "    dB = np.sum(A-Y)/150\n",
    "    W = W - alpha * dW\n",
    "    B = B - alpha * dB\n",
    "plt.plot(INDEX,LOSS)\n",
    "plt.show()\n",
    "cnt = 0\n",
    "for i,j in zip(A[0],Y[0]):\n",
    "    calc = int(np.round(i))\n",
    "    actual = int(j)\n",
    "    if calc==actual:\n",
    "        cnt = cnt + 1\n",
    "print (cnt/150*100)"
   ]
  },
  {
   "cell_type": "code",
   "execution_count": null,
   "metadata": {
    "collapsed": false
   },
   "outputs": [],
   "source": []
  },
  {
   "cell_type": "code",
   "execution_count": null,
   "metadata": {
    "collapsed": true
   },
   "outputs": [],
   "source": []
  },
  {
   "cell_type": "code",
   "execution_count": null,
   "metadata": {
    "collapsed": false
   },
   "outputs": [],
   "source": []
  },
  {
   "cell_type": "code",
   "execution_count": null,
   "metadata": {
    "collapsed": false
   },
   "outputs": [],
   "source": []
  },
  {
   "cell_type": "code",
   "execution_count": null,
   "metadata": {
    "collapsed": false
   },
   "outputs": [],
   "source": []
  },
  {
   "cell_type": "code",
   "execution_count": null,
   "metadata": {
    "collapsed": false
   },
   "outputs": [],
   "source": []
  },
  {
   "cell_type": "code",
   "execution_count": 223,
   "metadata": {
    "collapsed": true
   },
   "outputs": [],
   "source": []
  },
  {
   "cell_type": "code",
   "execution_count": 213,
   "metadata": {
    "collapsed": false
   },
   "outputs": [
    {
     "name": "stdout",
     "output_type": "stream",
     "text": [
      "96.66666666666667\n"
     ]
    }
   ],
   "source": []
  },
  {
   "cell_type": "code",
   "execution_count": 200,
   "metadata": {
    "collapsed": false
   },
   "outputs": [
    {
     "name": "stdout",
     "output_type": "stream",
     "text": [
      "96.66666666666667\n"
     ]
    }
   ],
   "source": []
  },
  {
   "cell_type": "code",
   "execution_count": null,
   "metadata": {
    "collapsed": false
   },
   "outputs": [],
   "source": []
  },
  {
   "cell_type": "code",
   "execution_count": null,
   "metadata": {
    "collapsed": true
   },
   "outputs": [],
   "source": []
  }
 ],
 "metadata": {
  "anaconda-cloud": {},
  "kernelspec": {
   "display_name": "Python [Root]",
   "language": "python",
   "name": "Python [Root]"
  },
  "language_info": {
   "codemirror_mode": {
    "name": "ipython",
    "version": 3
   },
   "file_extension": ".py",
   "mimetype": "text/x-python",
   "name": "python",
   "nbconvert_exporter": "python",
   "pygments_lexer": "ipython3",
   "version": "3.5.1"
  }
 },
 "nbformat": 4,
 "nbformat_minor": 0
}
